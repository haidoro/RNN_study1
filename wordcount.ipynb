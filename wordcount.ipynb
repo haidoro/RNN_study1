{
 "cells": [
  {
   "cell_type": "code",
   "execution_count": 15,
   "metadata": {},
   "outputs": [],
   "source": [
    "from janome.tokenizer import Tokenizer\n",
    "import zipfile\n",
    "import os.path, urllib.request as request"
   ]
  },
  {
   "cell_type": "code",
   "execution_count": 16,
   "metadata": {},
   "outputs": [],
   "source": [
    "# データファイルをダウンロードする"
   ]
  },
  {
   "cell_type": "code",
   "execution_count": 17,
   "metadata": {},
   "outputs": [],
   "source": [
    "url = \"https://www.aozora.gr.jp/cards/000148/files/789_ruby_5639.zip\""
   ]
  },
  {
   "cell_type": "code",
   "execution_count": 18,
   "metadata": {},
   "outputs": [],
   "source": [
    "localfile = \"462_ruby_716.zip\""
   ]
  },
  {
   "cell_type": "code",
   "execution_count": 19,
   "metadata": {},
   "outputs": [
    {
     "name": "stdout",
     "output_type": "stream",
     "text": [
      "ファイルをダウンロードします\n"
     ]
    }
   ],
   "source": [
    "if not os.path.exists(localfile):\n",
    "    print(\"ファイルをダウンロードします\")\n",
    "    request.urlretrieve(url,localfile)"
   ]
  },
  {
   "cell_type": "code",
   "execution_count": 20,
   "metadata": {},
   "outputs": [],
   "source": [
    "zipfile = zipfile.ZipFile(localfile, 'r')"
   ]
  },
  {
   "cell_type": "code",
   "execution_count": 21,
   "metadata": {},
   "outputs": [],
   "source": [
    "file = zipfile.open('wagahaiwa_nekodearu.txt', 'r')"
   ]
  },
  {
   "cell_type": "code",
   "execution_count": 22,
   "metadata": {},
   "outputs": [],
   "source": [
    "bindata = file.read()"
   ]
  },
  {
   "cell_type": "code",
   "execution_count": 23,
   "metadata": {},
   "outputs": [],
   "source": [
    "textdata = bindata.decode('shift_jis')"
   ]
  },
  {
   "cell_type": "code",
   "execution_count": 24,
   "metadata": {},
   "outputs": [],
   "source": [
    "t = Tokenizer()"
   ]
  },
  {
   "cell_type": "code",
   "execution_count": 25,
   "metadata": {},
   "outputs": [],
   "source": [
    "worddic = {}"
   ]
  },
  {
   "cell_type": "code",
   "execution_count": 26,
   "metadata": {},
   "outputs": [],
   "source": [
    "lines = textdata.split(\"\\r\\n\")"
   ]
  },
  {
   "cell_type": "code",
   "execution_count": 27,
   "metadata": {},
   "outputs": [],
   "source": [
    "for line in lines:\n",
    "    malist = t.tokenize(line) #形態素のリスト\n",
    "    for w in malist: # リストの各要素を取り出してカウント\n",
    "        word = w.surface\n",
    "        part = w.part_of_speech\n",
    "        if part.find('名詞') < 0: continue\n",
    "        if not word in worddic:\n",
    "            worddic[word] = 0 #数を格納するカウンター用の変数を生成\n",
    "        worddic[word] += 1  # カウンターを増やす"
   ]
  },
  {
   "cell_type": "code",
   "execution_count": 28,
   "metadata": {
    "scrolled": true
   },
   "outputs": [
    {
     "name": "stdout",
     "output_type": "stream",
     "text": [
      "の(1645)\n",
      "事(1205)\n",
      "もの(1004)\n",
      "主人(934)\n",
      "君(905)\n",
      "ん(784)\n",
      "よう(722)\n",
      "人(601)\n",
      "御(567)\n",
      "一(561)\n",
      "何(542)\n",
      "吾輩(483)\n",
      "これ(426)\n",
      "それ(385)\n",
      "時(345)\n",
      "上(327)\n",
      "傍点(319)\n",
      "三(315)\n",
      "方(314)\n",
      "ところ(313)\n",
      "二(304)\n",
      "さん(291)\n",
      "寒月(286)\n",
      "そう(283)\n",
      "顔(283)\n",
      "人間(272)\n",
      "僕(268)\n",
      "中(256)\n",
      "気(255)\n",
      "猫(249)\n",
      "［＃「(241)\n",
      "十(235)\n",
      "先生(233)\n",
      "迷亭(229)\n",
      "うち(227)\n",
      "い(214)\n",
      "細君(213)\n",
      "鼻(203)\n",
      "め(203)\n",
      "今(200)\n",
      "者(196)\n",
      "大(195)\n",
      "お(188)\n",
      "ご(187)\n",
      "ら(181)\n",
      "自分(175)\n",
      "頭(169)\n",
      "間(161)\n",
      "ここ(160)\n",
      "前(159)\n"
     ]
    }
   ],
   "source": [
    "keys = sorted(worddic.items(),key = lambda x:x[1], reverse=True)\n",
    "for word,cnt in keys[:50]:\n",
    "    print(\"{0}({1})\\n\".format(word,cnt), end=\"\")"
   ]
  },
  {
   "cell_type": "code",
   "execution_count": null,
   "metadata": {
    "collapsed": true
   },
   "outputs": [],
   "source": []
  }
 ],
 "metadata": {
  "kernelspec": {
   "display_name": "Python 3",
   "language": "python",
   "name": "python3"
  },
  "language_info": {
   "codemirror_mode": {
    "name": "ipython",
    "version": 3
   },
   "file_extension": ".py",
   "mimetype": "text/x-python",
   "name": "python",
   "nbconvert_exporter": "python",
   "pygments_lexer": "ipython3",
   "version": "3.6.6"
  }
 },
 "nbformat": 4,
 "nbformat_minor": 2
}
